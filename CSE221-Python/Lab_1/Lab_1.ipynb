{
 "cells": [
  {
   "cell_type": "code",
   "execution_count": 25,
   "id": "20f3dc96",
   "metadata": {
    "scrolled": true
   },
   "outputs": [
    {
     "data": {
      "text/html": [
       "\n",
       "        <iframe\n",
       "            width=\"800\"\n",
       "            height=\"400\"\n",
       "            src=\"Question.pdf\"\n",
       "            frameborder=\"0\"\n",
       "            allowfullscreen\n",
       "            \n",
       "        ></iframe>\n",
       "        "
      ],
      "text/plain": [
       "<IPython.lib.display.IFrame at 0x256c6676130>"
      ]
     },
     "execution_count": 25,
     "metadata": {},
     "output_type": "execute_result"
    }
   ],
   "source": [
    "from IPython.display import IFrame\n",
    "IFrame(\"Question.pdf\", width=800, height=400)"
   ]
  },
  {
   "cell_type": "markdown",
   "id": "b36bd266",
   "metadata": {},
   "source": [
    "# Task 1(a)"
   ]
  },
  {
   "cell_type": "code",
   "execution_count": 26,
   "id": "a9119d93",
   "metadata": {},
   "outputs": [],
   "source": [
    "\n",
    "data = open('input1a.txt',\"r\").read()\n",
    "lst = data.split('\\n')[1:]\n",
    "pen = open('output1a.txt','w')\n",
    "for num in lst:\n",
    "    if int(num)/2 == 0:\n",
    "        pen.write(f\"{num} is an Even number.\\n\")\n",
    "    else:\n",
    "         pen.write(f\"{num} is an Odd number.\\n\")\n",
    "pen.close()\n"
   ]
  },
  {
   "cell_type": "markdown",
   "id": "581e33d4",
   "metadata": {},
   "source": [
    "# Task 1(b)"
   ]
  },
  {
   "cell_type": "code",
   "execution_count": 27,
   "id": "444e9ef1",
   "metadata": {},
   "outputs": [],
   "source": [
    "data = open('input1b.txt',\"r\").read()\n",
    "lst = data.split('\\n')[1:]\n",
    "pen = open('output1b.txt','w')\n",
    "for line in lst:\n",
    "    result = 0\n",
    "    words = line.split(\" \")\n",
    "    words[3] = int( words[3])\n",
    "    words[1] = int( words[1])\n",
    "    if words[2] ==\"+\":\n",
    "        result = words[1] + words[3]\n",
    "    elif words[2] ==\"-\":\n",
    "        result = words[1]-words[3]\n",
    "    elif words[2] ==\"*\":\n",
    "        result = words[1]*words[3]\n",
    "    elif words[2] ==\"/\":\n",
    "        result = words[1]/words[3]\n",
    "    pen.write(f'The result of {words[1]} { words[2]} { words[3]} is {result}\\n')\n",
    "pen.close()"
   ]
  },
  {
   "cell_type": "markdown",
   "id": "f3bf81b5",
   "metadata": {},
   "source": [
    "# Task 2"
   ]
  },
  {
   "cell_type": "code",
   "execution_count": 28,
   "id": "8a793dab",
   "metadata": {},
   "outputs": [],
   "source": [
    "def bubbleSort(arr):    \n",
    "    for i in range(len(arr)-1):\n",
    "        count = 0\n",
    "        for j in range(len(arr)-i-1):\n",
    "            if arr[j] > arr[j+1]:\n",
    "                arr[j], arr[j+1] = arr[j+1], arr[j]\n",
    "                count+=1\n",
    "        if count==0:\n",
    "            return arr\n",
    "    return arr\n",
    "\n",
    "\n",
    "data = open('input2.txt',\"r\").read()\n",
    "lst = data.split('\\n')[1].split(\" \")\n",
    "lst = list(map(int,lst))\n",
    "sorted = bubbleSort([5,4,3,2,1])\n",
    "pen = open('output2.txt','w')\n",
    "for num in sorted:\n",
    "    pen.write(str(num)+\" \")\n",
    "pen.close()"
   ]
  },
  {
   "cell_type": "markdown",
   "id": "6d9852af",
   "metadata": {},
   "source": [
    "## You have to explain how you have achieved the θ(n) for the best-case scenario in a comment block of your code."
   ]
  },
  {
   "cell_type": "markdown",
   "id": "e9a83d9b",
   "metadata": {},
   "source": [
    "## Answer:\n",
    "\n",
    "##### \"if count==0:\n",
    "#####            return arr\"\n",
    "#### This condition stops the loops when no swap ocurred in inside loop. By these we understand That the list is already sorted. This way We can achieved the θ(n) for the best-case scenario"
   ]
  },
  {
   "cell_type": "markdown",
   "id": "e9a16e23",
   "metadata": {},
   "source": [
    "# Task 3"
   ]
  },
  {
   "cell_type": "code",
   "execution_count": 52,
   "id": "1dd8144b",
   "metadata": {},
   "outputs": [
    {
     "name": "stdout",
     "output_type": "stream",
     "text": [
      "[('5', '80'), ('7', '80'), ('2', '60'), ('3', '50')]\n"
     ]
    }
   ],
   "source": [
    "def insertionSortPairs(pairs,length):\n",
    "    pairs = list(pairs.items())\n",
    "    for i in range(0,length):\n",
    "        j = i + 1\n",
    "        maxLoc = i\n",
    "        while j<length: #mark -->1\n",
    "            currentMark, currentId = int(pairs[j][1]), int(pairs[j][0])\n",
    "            if (currentMark > int(pairs[maxLoc][1])) or (currentMark == int(pairs[maxLoc][1]) and currentId<int(pairs[maxLoc][0])):\n",
    "                    maxLoc = j\n",
    "            j += 1\n",
    "        temp = pairs[i]\n",
    "        pairs[i] = pairs[maxLoc]\n",
    "        pairs[maxLoc] = temp\n",
    "\n",
    "    \n",
    "    return pairs\n",
    "\n",
    "file = open(\"input3.txt\",\"r\").read().split(\"\\n\")\n",
    "length = int(file[0])\n",
    "ids = file[1].split(\" \")\n",
    "marks = file[2].split(\" \")\n",
    "\n",
    "pairs = {}\n",
    "\n",
    "for i in range(length):\n",
    "  pairs[ids[i]] = marks[i]\n",
    "sortedPairs = insertionSortPairs(pairs,length)\n",
    "print(sortedPairs)\n",
    "\n",
    "pen = open(\"output3.txt\",\"w\")\n",
    "for i in range(length):\n",
    "  pair = sortedPairs[i]\n",
    "  if i<length-1:\n",
    "    pen.write(f\"ID: {pair[0]} Mark: {pair[1]}\\n\")\n",
    "  else:\n",
    "    pen.write(f\"ID: {pair[0]} Mark: {pair[1]}\")\n",
    "pen.close()"
   ]
  },
  {
   "cell_type": "markdown",
   "id": "d3d17cdd",
   "metadata": {},
   "source": [
    "# Task 4"
   ]
  },
  {
   "cell_type": "code",
   "execution_count": 66,
   "id": "30758a07",
   "metadata": {},
   "outputs": [
    {
     "name": "stdout",
     "output_type": "stream",
     "text": [
      "Swap\n",
      "Swap\n",
      "Swap\n",
      "Swap\n",
      "Swap\n",
      "Swap\n",
      "Swap\n",
      "Swap\n",
      "Swap\n",
      "Swap\n",
      "Swap\n",
      "Swap\n",
      "Swap\n"
     ]
    }
   ],
   "source": [
    "def insertionSortSchedule(pairs,length):\n",
    "#     pairs = list(pairs.items())\n",
    "    for i in range(0,length):\n",
    "        j = i + 1\n",
    "        maxLoc = i\n",
    "        while j<length:\n",
    "            currentTrain, currentDestination, currentTime = pairs[j][0],pairs[j][1],pairs[j][2]\n",
    "            if (currentTrain < pairs[maxLoc][0]) or (currentTrain == pairs[maxLoc][0] and currentTime > pairs[maxLoc][2]):\n",
    "                    maxLoc = j\n",
    "            j += 1\n",
    "        temp = pairs[i]\n",
    "        pairs[i] = pairs[maxLoc]\n",
    "        print(\"Swap\")\n",
    "        pairs[maxLoc] = temp\n",
    "\n",
    "    \n",
    "    return pairs\n",
    "\n",
    "\n",
    "file = open(\"input4.txt\",\"r\").read().split(\"\\n\")\n",
    "length = int(file[0])\n",
    "info = []\n",
    "for i in range(1,length+1,1):\n",
    "  line = file[i].split(\" \")\n",
    "  train=line[0]\n",
    "  dest=line[4]\n",
    "  time=line[6]\n",
    "  info.append((train,dest,time))\n",
    "# print(info)\n",
    "sortedInfo = insertionSortSchedule(info,length)\n",
    "# print(sortedInfo)\n",
    "\n",
    "pen = open(\"output4.txt\",\"w\")\n",
    "\n",
    "for i in range(length):\n",
    "  info = sortedInfo[i]\n",
    "  if i<length-1:\n",
    "    pen.write(f\"{info[0]} will departure for {info[1]} at {info[2]}\\n\")\n",
    "  else:\n",
    "    pen.write(f\"{info[0]} will departure for {info[1]} at {info[2]}\")\n",
    "pen.close()"
   ]
  }
 ],
 "metadata": {
  "kernelspec": {
   "display_name": "Python 3 (ipykernel)",
   "language": "python",
   "name": "python3"
  },
  "language_info": {
   "codemirror_mode": {
    "name": "ipython",
    "version": 3
   },
   "file_extension": ".py",
   "mimetype": "text/x-python",
   "name": "python",
   "nbconvert_exporter": "python",
   "pygments_lexer": "ipython3",
   "version": "3.9.13"
  }
 },
 "nbformat": 4,
 "nbformat_minor": 5
}
