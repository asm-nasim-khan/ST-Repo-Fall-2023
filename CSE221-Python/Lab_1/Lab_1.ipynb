{
 "cells": [
  {
   "cell_type": "code",
   "execution_count": 4,
   "id": "20f3dc96",
   "metadata": {
    "scrolled": true
   },
   "outputs": [
    {
     "data": {
      "text/html": [
       "\n",
       "        <iframe\n",
       "            width=\"800\"\n",
       "            height=\"400\"\n",
       "            src=\"Question.pdf\"\n",
       "            frameborder=\"0\"\n",
       "            allowfullscreen\n",
       "            \n",
       "        ></iframe>\n",
       "        "
      ],
      "text/plain": [
       "<IPython.lib.display.IFrame at 0x2d44368bf10>"
      ]
     },
     "execution_count": 4,
     "metadata": {},
     "output_type": "execute_result"
    }
   ],
   "source": [
    "from IPython.display import IFrame\n",
    "IFrame(\"Question.pdf\", width=800, height=400)"
   ]
  },
  {
   "cell_type": "markdown",
   "id": "ed76108f",
   "metadata": {},
   "source": [
    "# Task 1(a)"
   ]
  },
  {
   "cell_type": "code",
   "execution_count": 18,
   "id": "1ab0cba4",
   "metadata": {},
   "outputs": [],
   "source": [
    "\n",
    "data = open('input1a.txt',\"r\").read()\n",
    "lst = data.split('\\n')[1:]\n",
    "pen = open('output1a.txt','w')\n",
    "for num in lst:\n",
    "    if int(num)/2 == 0:\n",
    "        pen.write(f\"{num} is an Even number.\\n\")\n",
    "    else:\n",
    "         pen.write(f\"{num} is an Odd number.\\n\")\n",
    "pen.close()\n"
   ]
  },
  {
   "cell_type": "markdown",
   "id": "e1bf1308",
   "metadata": {},
   "source": [
    "# Task 1(b)"
   ]
  },
  {
   "cell_type": "code",
   "execution_count": 30,
   "id": "f89c3d39",
   "metadata": {},
   "outputs": [],
   "source": [
    "\n",
    "data = open('input1b.txt',\"r\").read()\n",
    "lst = data.split('\\n')[1:]\n",
    "pen = open('output1b.txt','w')\n",
    "for line in lst:\n",
    "    result = 0\n",
    "    words = line.split(\" \")\n",
    "    words[3] = int( words[3])\n",
    "    words[1] = int( words[1])\n",
    "    if words[2] ==\"+\":\n",
    "        result = words[1] + words[3]\n",
    "    elif words[2] ==\"-\":\n",
    "        result = words[1]-words[3]\n",
    "    elif words[2] ==\"*\":\n",
    "        result = words[1]*words[3]\n",
    "    elif words[2] ==\"-\":\n",
    "        result = words[1]/words[3]\n",
    "    pen.write(f'The result of {words[1]} { words[2]} { words[3]} is {result}\\n')\n",
    "pen.close()"
   ]
  }
 ],
 "metadata": {
  "kernelspec": {
   "display_name": "Python 3 (ipykernel)",
   "language": "python",
   "name": "python3"
  },
  "language_info": {
   "codemirror_mode": {
    "name": "ipython",
    "version": 3
   },
   "file_extension": ".py",
   "mimetype": "text/x-python",
   "name": "python",
   "nbconvert_exporter": "python",
   "pygments_lexer": "ipython3",
   "version": "3.9.13"
  }
 },
 "nbformat": 4,
 "nbformat_minor": 5
}
