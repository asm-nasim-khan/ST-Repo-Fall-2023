{
 "cells": [
  {
   "cell_type": "markdown",
   "id": "51cb79de",
   "metadata": {},
   "source": [
    "# #task 1 (1)"
   ]
  },
  {
   "cell_type": "code",
   "execution_count": 1,
   "id": "bc9b0a4b",
   "metadata": {},
   "outputs": [
    {
     "name": "stdout",
     "output_type": "stream",
     "text": [
      "1 5\n"
     ]
    }
   ],
   "source": [
    "file = open(\"input1.txt\", \"r\").read().split(\"\\n\")\n",
    "# print(file)\n",
    "line1 = file[0].split(\" \")\n",
    "# print(line1)\n",
    "length = int(line1[0])\n",
    "# print(length)\n",
    "Nsum = int(line1[1])\n",
    "# print(Nsum)\n",
    "\n",
    "arr = file[1].split(\" \")\n",
    "# print(arr)\n",
    "#converting All the Array elements to int\n",
    "for i in range(len(arr)):\n",
    "    arr[i] = int(arr[i])\n",
    "\n",
    "# print(arr)\n",
    "found = False\n",
    "pen = open(\"output1.txt\", \"w\")\n",
    "for i in range(length):\n",
    "    num1 = int(arr[i])\n",
    "    for j in range(i+1,length,1):\n",
    "        num2 = arr[j]\n",
    "        if num1+num2 == Nsum:\n",
    "            pen.write( f'{i+1} {j+1}')\n",
    "            print(i+1,j+1)\n",
    "            found = True\n",
    "            break\n",
    "    if found:\n",
    "        break\n",
    "if found==False:\n",
    "    pen.write(\"IMPOSSIBLE\")\n",
    "pen.close()"
   ]
  },
  {
   "cell_type": "markdown",
   "id": "f3ff9409",
   "metadata": {},
   "source": [
    "# task 1 v2"
   ]
  },
  {
   "cell_type": "code",
   "execution_count": 19,
   "id": "690d115f",
   "metadata": {},
   "outputs": [
    {
     "name": "stdout",
     "output_type": "stream",
     "text": [
      "['6 18', '9 10 1 5 9 8']\n",
      "1 5\n"
     ]
    }
   ],
   "source": [
    "\n",
    "# def task1_2():\n",
    "#   f1 = open(\"input1.txt\", \"r\")\n",
    "#   f2 = open(\"output1.txt\", \"w\")\n",
    "\n",
    "#   inp = f1.read().split(\"\\n\")\n",
    "#   f1.close()\n",
    "#   line1 = inp[0].split(\" \")\n",
    "#   length = int(line1[0])\n",
    "#   sum = int(line1[1])\n",
    "\n",
    "#   arr = inp[1].split(\" \")\n",
    "#   print(arr,sum)\n",
    "#   needed = {}\n",
    "#   found = False\n",
    "# #   for i in range(length):\n",
    "# #     if int(arr[i]) in needed:\n",
    "# #       first = needed[int(arr[i])]+1\n",
    "# #       second = i+1\n",
    "# #       f2.write(str(first)+\" \"+str(second))\n",
    "# #       found= True\n",
    "# #       break\n",
    "# #     else:\n",
    "# #       other = sum - int(arr[i])\n",
    "# #       needed[other] = i\n",
    "#   if found==False:\n",
    "#     f2.write(\"IMPOSSIBLE\")\n",
    "#   f2.close()\n",
    "\n",
    "file = open(\"input1.txt\", \"r\").read().split(\"\\n\")\n",
    "f2 = open(\"output1.txt\", \"w\")\n",
    "\n",
    "line1 = file[0].split(\" \")\n",
    "length = int(line1[0])\n",
    "Nsum = int(line1[1])\n",
    "\n",
    "arr = inp[1].split(\" \")\n",
    "#converting All the Array elements to int\n",
    "for i in range(len(arr)):\n",
    "    arr[i] = int(arr[i])\n",
    "\n",
    "found = False\n",
    "seen = {}  # Create a dictionary to store seen numbers and their indices.\n",
    "x,y = 0,0\n",
    "for i, num in enumerate(arr):\n",
    "    diff = Nsum - num\n",
    "    if diff in seen:\n",
    "        x,y = seen[diff], i  # store the indices of the two numbers.\n",
    "        found = True\n",
    "        break\n",
    "    seen[num] = i\n",
    "\n",
    "if found==False:\n",
    "    f2.write(\"IMPOSSIBLE\")\n",
    "else:\n",
    "    f2.write(f'{x+1} {y+1}')\n",
    "    print(x+1,y+1)\n",
    "f2.close()"
   ]
  },
  {
   "cell_type": "markdown",
   "id": "c3af088d",
   "metadata": {},
   "source": [
    "# # task 2 v1 Using sorting Library "
   ]
  },
  {
   "cell_type": "code",
   "execution_count": 3,
   "id": "867b3a70",
   "metadata": {},
   "outputs": [
    {
     "name": "stdout",
     "output_type": "stream",
     "text": [
      "Defaulting to user installation because normal site-packages is not writeable\n",
      "Requirement already satisfied: sorting in c:\\users\\asmna\\appdata\\roaming\\python\\python39\\site-packages (1.0.3)\n",
      "Note: you may need to restart the kernel to use updated packages.\n"
     ]
    }
   ],
   "source": [
    "pip install sorting"
   ]
  },
  {
   "cell_type": "code",
   "execution_count": 9,
   "id": "647ae382",
   "metadata": {},
   "outputs": [
    {
     "name": "stdout",
     "output_type": "stream",
     "text": [
      "[2, 3, 8, 8, 10, 12, 14]\n",
      "[1, 1, 4, 5, 6, 8, 13, 15, 16]\n",
      "[1, 1, 2, 3, 4, 5, 6, 8, 8, 8, 10, 12, 13, 14, 15, 16]\n"
     ]
    }
   ],
   "source": [
    "import sorting\n",
    "f1 = open(\"input2.txt\", \"r\")\n",
    "f2 = open(\"output2.txt\", \"w\")\n",
    "\n",
    "inp = f1.read().split(\"\\n\")\n",
    "f1.close()\n",
    "length1 = int(inp[0])\n",
    "arr1 = inp[1].split(\" \")\n",
    "for i in range(len(arr1)):\n",
    "    arr1[i] = int(arr1[i])\n",
    "print(arr1)\n",
    "length2 = int(inp[2])\n",
    "arr2 = inp[3].split(\" \")\n",
    "for i in range(len(arr2)):\n",
    "    arr2[i] = int(arr2[i])\n",
    "print(arr2)\n",
    "\n",
    "# for i in range(length1+length2):\n",
    "    \n",
    "arr1.extend(arr2)\n",
    "# arr1.sort()\n",
    "sorted = sorting.merge(arr1)\n",
    "print(sorted)\n",
    "f2.write(str(sorted))\n",
    "f2.close()"
   ]
  },
  {
   "cell_type": "markdown",
   "id": "90515570",
   "metadata": {},
   "source": [
    "# task 2 v2\n"
   ]
  },
  {
   "cell_type": "code",
   "execution_count": 26,
   "id": "d0594dee",
   "metadata": {},
   "outputs": [],
   "source": [
    "import sorting\n",
    "f1 = open(\"input2.txt\", \"r\")\n",
    "f2 = open(\"output2.txt\", \"w\")\n",
    "\n",
    "inp = f1.read().split(\"\\n\")\n",
    "f1.close()\n",
    "length1 = int(inp[0])\n",
    "arr1 = inp[1].split(\" \")\n",
    "for i in range(len(arr1)):\n",
    "    arr1[i] = int(arr1[i])\n",
    "# print(arr1)\n",
    "length2 = int(inp[2])\n",
    "arr2 = inp[3].split(\" \")\n",
    "for i in range(len(arr2)):\n",
    "    arr2[i] = int(arr2[i])\n",
    "# print(arr2)\n",
    "result = []\n",
    "index1 = 0\n",
    "index2 = 0\n",
    "for i in range(length1+length2):\n",
    "    if index1<len(arr1) and index2<len(arr2):\n",
    "        if arr1[index1]<=arr2[index2]:\n",
    "            result.append(arr1[index1])\n",
    "            index1+=1\n",
    "        else:\n",
    "            result.append(arr2[index2])\n",
    "            index2+=1\n",
    "    else:\n",
    "        break\n",
    "if index2<len(arr2)-1:\n",
    "    result.extend(arr2[index2:])\n",
    "elif index1<len(arr1)-1:\n",
    "    result.extend(arr1[index1:])\n",
    "\n",
    "\n",
    "f2.write(str(result))\n",
    "f2.close()"
   ]
  },
  {
   "cell_type": "markdown",
   "id": "d7f187a5",
   "metadata": {},
   "source": [
    "# Task 3"
   ]
  },
  {
   "cell_type": "code",
   "execution_count": 27,
   "id": "7347ddd0",
   "metadata": {},
   "outputs": [],
   "source": [
    "def mergeSort(arr):\n",
    "    if len(arr) <= 1:\n",
    "        return arr\n",
    "\n",
    "    mid = len(arr)// 2\n",
    "    left = mergeSort(arr[:mid])\n",
    "    right = mergeSort(arr[mid:])\n",
    "\n",
    "    return merge(left, right)\n",
    "\n",
    "def merge(left, right):\n",
    "    merged = []\n",
    "    i = 0\n",
    "    j = 0\n",
    "\n",
    "    while i < len(left) and j < len(right):\n",
    "        if left[i] <= right[j]:\n",
    "            merged.append(left[i])\n",
    "            i += 1\n",
    "        else:\n",
    "            merged.append(right[j])\n",
    "            j += 1\n",
    "\n",
    "    merged.extend(left[i:])\n",
    "    merged.extend(right[j:])\n",
    "\n",
    "    return merged\n",
    "\n",
    "f1 = open(\"input3.txt\", \"r\")\n",
    "f2 = open(\"output3.txt\", \"w\")\n",
    "inp = f1.read().split(\"\\n\")\n",
    "f1.close()\n",
    "arr = inp[1].split(\" \")\n",
    "arr = list(map(int, arr))\n",
    "sorted = list(map(str, mergeSort(arr)))\n",
    "f2.write(\" \".join(sorted))\n",
    "f2.close()"
   ]
  },
  {
   "cell_type": "markdown",
   "id": "3fed967f",
   "metadata": {},
   "source": [
    "# # task 2 v1 Using sorting own mergeSort Function"
   ]
  },
  {
   "cell_type": "code",
   "execution_count": 28,
   "id": "55810968",
   "metadata": {},
   "outputs": [
    {
     "name": "stdout",
     "output_type": "stream",
     "text": [
      "[2, 3, 8, 8, 10, 12, 14]\n",
      "[1, 1, 4, 5, 6, 8, 13, 15, 16]\n",
      "[1, 1, 2, 3, 4, 5, 6, 8, 8, 8, 10, 12, 13, 14, 15, 16]\n"
     ]
    }
   ],
   "source": [
    "f1 = open(\"input2.txt\", \"r\")\n",
    "f2 = open(\"output2.txt\", \"w\")\n",
    "\n",
    "inp = f1.read().split(\"\\n\")\n",
    "f1.close()\n",
    "length1 = int(inp[0])\n",
    "arr1 = inp[1].split(\" \")\n",
    "for i in range(len(arr1)):\n",
    "    arr1[i] = int(arr1[i])\n",
    "print(arr1)\n",
    "length2 = int(inp[2])\n",
    "arr2 = inp[3].split(\" \")\n",
    "for i in range(len(arr2)):\n",
    "    arr2[i] = int(arr2[i])\n",
    "print(arr2)\n",
    "\n",
    "# for i in range(length1+length2):\n",
    "    \n",
    "arr1.extend(arr2)\n",
    "\n",
    "sorted = mergeSort(arr1)\n",
    "print(sorted)\n",
    "f2.write(str(sorted))\n",
    "f2.close()"
   ]
  }
 ],
 "metadata": {
  "kernelspec": {
   "display_name": "Python 3 (ipykernel)",
   "language": "python",
   "name": "python3"
  },
  "language_info": {
   "codemirror_mode": {
    "name": "ipython",
    "version": 3
   },
   "file_extension": ".py",
   "mimetype": "text/x-python",
   "name": "python",
   "nbconvert_exporter": "python",
   "pygments_lexer": "ipython3",
   "version": "3.9.13"
  }
 },
 "nbformat": 4,
 "nbformat_minor": 5
}
